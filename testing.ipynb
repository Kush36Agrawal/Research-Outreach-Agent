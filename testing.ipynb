{
 "cells": [
  {
   "cell_type": "code",
   "execution_count": 9,
   "metadata": {},
   "outputs": [],
   "source": [
    "from get_prof_list import ProfessorList, is_valid_url\n",
    "from get_researches_of_prof import ProfResearches\n",
    "from get_abstract import ResearchAbstract"
   ]
  },
  {
   "cell_type": "code",
   "execution_count": 5,
   "metadata": {},
   "outputs": [
    {
     "name": "stdout",
     "output_type": "stream",
     "text": [
      "https://www.csrankings.org\n",
      "Dropdown option: South Africa\n"
     ]
    }
   ],
   "source": [
    "file_name = \"user_agent.txt\"\n",
    "regions=[\"South Africa\"]\n",
    "\n",
    "text=\"\"\n",
    "with open(\"user_agent.txt\", \"w\", encoding=\"utf-8\") as file:\n",
    "    text=ProfessorList(\"https://www.csrankings.org\",regions=regions).getProfList()\n",
    "    file.write(text)"
   ]
  },
  {
   "cell_type": "code",
   "execution_count": 20,
   "metadata": {},
   "outputs": [
    {
     "name": "stdout",
     "output_type": "stream",
     "text": [
      "https://dblp.org/pers/hd/v/Visser:Willem\n",
      "https://dblp.org/pers/hd/k/Kroon:Steve\n",
      "https://dblp.org/pers/hd/g/Geldenhuys:Jaco\n",
      "https://dblp.org/pers/hd/f/Fischer_0002:Bernd\n",
      "https://dblp.org/pers/hd/m/Meyer:Thomas_Andreas\n",
      "https://dblp.org/pers/hd/d/Densmore:Melissa\n"
     ]
    }
   ],
   "source": [
    "newText=\"\"\n",
    "lines=text.splitlines()\n",
    "for line in lines:\n",
    "    line=line.strip()\n",
    "    if line.startswith(\"[Link:\"):\n",
    "        start_index=line.find(\"http\")\n",
    "        end_index=line.find(\"]\",start_index)\n",
    "        url=line[start_index:end_index]\n",
    "        newText+=ProfResearches(url).getProfResearches()\n",
    "    else :\n",
    "        newText+=\"\\n\"\n",
    "        newText+=line"
   ]
  },
  {
   "cell_type": "code",
   "execution_count": 21,
   "metadata": {},
   "outputs": [],
   "source": [
    "with open(\"user_agent_2.txt\", \"w\", encoding=\"utf-8\") as file:\n",
    "    file.write(newText)"
   ]
  },
  {
   "cell_type": "code",
   "execution_count": 22,
   "metadata": {},
   "outputs": [
    {
     "data": {
      "text/plain": [
       "'\\n#############################################################################################################\\nSouth Africa\\n#############################################################################################################\\n\\n\\nName: Willem Visser\\nhttps://doi.org/10.1007/978-3-031-27481-7_33\\nhttps://doi.org/10.1145/3611643.3616265\\nhttps://doi.org/10.48550/arXiv.2307.16023'"
      ]
     },
     "execution_count": 22,
     "metadata": {},
     "output_type": "execute_result"
    }
   ],
   "source": [
    "x=newText.splitlines()\n",
    "y=x[:10]\n",
    "newText=\"\\n\".join(y)\n",
    "\n",
    "# with open(\"user_agent_2.txt\", \"w\", encoding=\"utf-8\") as file:\n",
    "#     file.write(newText)\n",
    "newText"
   ]
  },
  {
   "cell_type": "code",
   "execution_count": 23,
   "metadata": {},
   "outputs": [],
   "source": [
    "with open(\"user_agent_2.txt\", \"w\", encoding=\"utf-8\") as file:\n",
    "    file.write(newText)"
   ]
  },
  {
   "cell_type": "code",
   "execution_count": 28,
   "metadata": {},
   "outputs": [
    {
     "name": "stdout",
     "output_type": "stream",
     "text": [
      "https://doi.org/10.1007/978-3-031-27481-7_33\n",
      "https://doi.org/10.1145/3611643.3616265\n",
      "https://doi.org/10.48550/arXiv.2307.16023\n"
     ]
    }
   ],
   "source": [
    "newText2=\"\"\n",
    "lines=newText.splitlines()\n",
    "counter=1\n",
    "for line in lines:\n",
    "    line=line.strip()\n",
    "    if line.startswith(\"https://\"):\n",
    "        url=line\n",
    "        newText2+=\"\\n\"\n",
    "        newText2+=f\"Abstract for Research Paper {counter}\"\n",
    "        newText2+=\"\\n\"\n",
    "        newText2+=\"\\n\"\n",
    "        newText2+=ResearchAbstract(url).getResearchAbstract()\n",
    "        newText2+=\"\\n\"\n",
    "        counter+=1\n",
    "    else :\n",
    "        counter=1\n",
    "        # newText2+=\"\\n\"\n",
    "        newText2+=line\n",
    "        newText2+=\"\\n\"\n",
    "        # newText2+=\"\\n\""
   ]
  },
  {
   "cell_type": "code",
   "execution_count": 29,
   "metadata": {},
   "outputs": [],
   "source": [
    "with open(\"user_agent_3.txt\", \"w\", encoding=\"utf-8\") as file:\n",
    "    file.write(newText2)"
   ]
  },
  {
   "cell_type": "code",
   "execution_count": 8,
   "metadata": {},
   "outputs": [],
   "source": [
    "from langchain_ollama import ChatOllama\n",
    "from langchain.schema import SystemMessage\n",
    "from langchain.prompts import ChatPromptTemplate, HumanMessagePromptTemplate\n",
    "model3 = ChatOllama(model=\"llama3.2:3b\", temperature=0.4, num_ctx=2048)\n",
    "import logging\n",
    "\n",
    "def generate_email(summarized_researches: str, skills: str) -> str:\n",
    "    # Prompt for general use\n",
    "    # prompt = ChatPromptTemplate.from_template(f\"\"\"Below is a professor's research abstract and a summary of my skills froskills. Please generate a polite and professional email body introducing me to the professor. In the email, mention the specific area of research the professor is involved in, and highlight the skills I have that are relevant to their work. Express my interest in discussing potential opportunities for collaboration or research.\n",
    "    # Prompt for personal use\n",
    "    prompt = ChatPromptTemplate.from_template(f\"\"\"You are Devyansh Gupta, a B.Tech student at IIT Roorkee in Data Science and AI branch. Below is a professor's research abstract your task is to generate a polite and professional email body introducing yourself to the professor. In the email, mention the specific areas of research the professor is involved in and discuss them properly, and highlight the skills you have that are relevant to their work. Express your interest for collaboration or research with the professor. Make sure not to boast your skills too much.\n",
    "    Professor's Research Abstract:\n",
    "    {summarized_researches}\n",
    "    Your Skills:\n",
    "    {skills}\n",
    "    Generate a personalized email to the professor:\"\"\")\n",
    "    formatted_prompt = prompt.format_messages(summarized_researches=summarized_researches, skills=skills)\n",
    "    result = model3.invoke(formatted_prompt)\n",
    "    logging.info(result)\n",
    "    return result.content\n",
    "\n",
    "researches =\"\"\"Here is a summary of the research paper 'Shifting Left for Early Detection of Machine-Learning Bugs' by Ben Liblit et al.\\n\\n**Background**\\n\\nMachine learning (ML) notebooks are widely used for ML development, but they introduce new correctness concerns beyond traditional programming environments. Static analyses can detect bugs and enforce best practices in software applications, but adapting these analyses to notebooks is a challenge.\\n\\n**Methodology**\\n\\nThe authors created six new rules for the CodeGuru Reviewer based on discussions with ML practitioners. They ran the tool on close to 10,000 experimentation notebooks, resulting in an average of approximately 1 finding per 7 notebooks. Approximately 60% of the findings were real notebook defects.\\n\\n**Key Findings**\\n\\n* Static analysis can detect notebook-specific problems that are not caught by traditional application software analyses.\\n* The authors' approach can identify bugs and enforce best practices in ML notebooks, improving overall quality and reproducibility.\\n* The tool has a high detection rate for notebook-specific problems, indicating its potential to shift left into early bug detection.\\n\\n**Conclusion**\\n\\nThe research paper presents an initial effort in understanding how static analysis for notebooks differs from analysis of traditional application software. The authors' approach shows promise in detecting bugs and enforcing best practices in ML notebooks, highlighting the importance of adapting static analyses to new types of software applications like notebooks.\n",
    "\n",
    "The article discusses the challenges and limitations of using artificial neural networks (ANNs) as multi-networks automated test oracles for software testing. The authors propose a new approach to improve the accuracy and reliability of ANNs in automated testing, which involves combining multiple ANNs with different architectures and training them on diverse datasets.\\n\\nThe authors also discuss the importance of ensuring critical properties of test oracles, such as fault detection and code coverage, and present a framework for evaluating and improving the performance of ANNs in automated testing. They propose using a combination of machine learning algorithms and traditional testing techniques to improve the accuracy and reliability of ANNs in automated testing.\\n\\nThe article concludes that while ANNs have shown promise in automated testing, they are not yet widely adopted due to their limitations and challenges. However, with the development of more advanced architectures and training methods, ANNs may become a more viable option for automated testing in the future.\\n\\nSome key takeaways from the article include:\\n\\n1. The importance of ensuring critical properties of test oracles, such as fault detection and code coverage.\\n2. The limitations and challenges of using ANNs as multi-networks automated test oracles.\\n3. The potential benefits of combining multiple ANNs with different architectures and training them on diverse datasets.\\n4. The need for more advanced architectures and training methods to improve the accuracy and reliability of ANNs in automated testing.\\n\\nOverall, the article provides a comprehensive overview of the challenges and limitations of using ANNs as multi-networks automated test oracles and proposes a new approach to improve their performance and accuracy.\n",
    "\n",
    "Here is a summary of the abstract:\\n\\nThe research paper \"Neural-Based Test Oracle Generation: A Large-scale Evaluation and Lessons Learned\" investigates the effectiveness of TOGA, a neural-based method for automatic test oracle generation. The authors conducted a large-scale study involving 25 real-world Java systems, 223.5K test cases, and 51K injected faults to evaluate TOGA's ability to improve fault-detection effectiveness.\\n\\nThe results show that TOGA:\\n\\n* Outperformed specification, search, and neural-based techniques in detecting bugs\\n* Misclassified the type of oracle needed 24% of the time\\n* Generated assertion oracles with a high false positive rate (47%)\\n* Only improved fault detection by 0.3% relative to prior work\\n\\nThe authors conclude that while TOGA shows promise, its limitations and potential for improvement need to be addressed. The study provides valuable insights for evaluating future automated oracle generation methods and offers lessons learned for improving the effectiveness of neural-based test oracles.\\n\\nKey findings:\\n\\n* TOGA is effective in detecting bugs but has limitations in generating reliable assertion oracles\\n* Misclassification rates are high, indicating a need for improvement in oracle type detection\\n* False positive assertion oracles can lead to inefficient testing efforts\\n\\nOverall, the study highlights the importance of evaluating and improving automated test oracle generation methods to ensure their effectiveness in real-world software development settings.\"\"\"\n",
    "\n",
    "skills = \"\"\"Based on the provided resume, the extracted skills are:\\n\\n**Personal Information**\\n\\n* None mentioned directly, but relevant skills can be inferred from other sections.\\n\\n**Education**\\n\\n* **Programming and Scripting Languages**: C, C++, Python, HTML5, CSS3, JavaScript\\n* **Databases**: MongoDB\\n* **Frameworks and Libraries**: Node.js, Express.js, Django, Flask\\n\\n**Technical Skills**\\n\\n* **Programming and Scripting Languages**: C, C++, Python, HTML5, CSS3, JavaScript\\n* **Databases**: MongoDB\\n* **Frameworks and Libraries**: Node.js, Express.js, Django, Flask\\n\\n**Projects (AWARDS AND HONORS)**\\n\\n* **Deep Learning**: Concepts of Deep Learning used to create a Multitask Classification Model for drone classification.\\n* **Machine Learning**: Used Llama 3.2 1B and 3B models with Ollama API for Document Question Answering.\\n\\n**PROJECTS**\\n\\n* **HTML, CSS, JavaScript**: Used in Sound Based Drone Fault Classification (ArIES Project), JEE-Ranks, Air-Canvas\\n* **Frameworks:**\\n\\t+ NodeJS: Used in JEE-Ranks and Air-Canvas\\n\\t+ ExpressJS: Used in JEE-Ranks and Air-Canvas\\n\\t+ Flask: Used in Air-Canvas\\n* **Database:** MongoDB: Used in JEE-Ranks and Air-Canvas\\n* **Programming Languages**: Python, HTML5, CSS3, JavaScript\\n\\n**EXPERIENCES**\\n\\n* **API Testing Intern**\\n\\t+ Django Framework: Wrote over 100 test cases to check the functioning of API.\\n\\t+ Deluge Scripting Language: Used to connect functionality with form and database.\\n* **Competitive Programming**\\n\\t+ Codeforces: Max ratings of 1462\\n\\t+ CodeChef: 2 star (1555)\\n\\n**EXTRA-CURRICULARS**\\n\\n* **Pictionary AI**: Using BLIP (Image Captioning LLM) for Image captioning\\n\\nNote that some skills may overlap between categories, but I have listed them according to the most relevant category.\"\"\"\n",
    "response = generate_email(researches, skills)"
   ]
  },
  {
   "cell_type": "code",
   "execution_count": 10,
   "metadata": {},
   "outputs": [
    {
     "name": "stdout",
     "output_type": "stream",
     "text": [
      "Subject: Expressed Interest in Collaborating on Research Projects and Discussing Opportunities\n",
      "\n",
      "Dear Professor [Professor's Name],\n",
      "\n",
      "I hope this email finds you well. My name is Devyansh Gupta, and I am a B.Tech student at IIT Roorkee, pursuing Data Science and AI as my area of study. I came across your research paper \"Shifting Left for Early Detection of Machine-Learning Bugs\" by Ben Liblit et al., and I was impressed by the innovative approach you have taken to address the challenges in machine learning notebooks.\n",
      "\n",
      "I am particularly interested in the work on static analysis for notebooks, as it aligns with my own interests in developing tools for early bug detection. Your paper highlights the potential of adapting traditional software analyses to notebooks, which is an area that I believe holds great promise for improving the quality and reproducibility of machine learning models.\n",
      "\n",
      "As a student at IIT Roorkee, I have been exposed to various programming languages, including C, C++, Python, HTML5, CSS3, JavaScript, and databases like MongoDB. Additionally, I have worked with frameworks such as Node.js, Express.js, Django, and Flask. My experience in API testing has also given me a solid foundation in understanding the importance of robust testing in software development.\n",
      "\n",
      "I am particularly drawn to your work on neural-based test oracle generation, as it resonates with my own interests in deep learning and machine learning. The article \"Neural-Based Test Oracle Generation: A Large-scale Evaluation and Lessons Learned\" presents valuable insights into the challenges and limitations of using artificial neural networks (ANNs) as multi-networks automated test oracles.\n",
      "\n",
      "I would like to discuss potential opportunities for collaboration or research with you, particularly in the areas of static analysis for notebooks and neural-based test oracle generation. I am confident that my skills and interests align with your research goals, and I believe that working together could lead to exciting breakthroughs in the field.\n",
      "\n",
      "If you are open to it, I would love to schedule a meeting or discuss this further over email. Please let me know if there is any specific information you would like me to provide or if you have any questions about my background or interests.\n",
      "\n",
      "Thank you for your time and consideration, and I look forward to the possibility of collaborating with you in the future.\n",
      "\n",
      "Best regards,\n",
      "\n",
      "Devyansh Gupta\n"
     ]
    }
   ],
   "source": [
    "print(response)"
   ]
  }
 ],
 "metadata": {
  "kernelspec": {
   "display_name": "Python 3",
   "language": "python",
   "name": "python3"
  },
  "language_info": {
   "codemirror_mode": {
    "name": "ipython",
    "version": 3
   },
   "file_extension": ".py",
   "mimetype": "text/x-python",
   "name": "python",
   "nbconvert_exporter": "python",
   "pygments_lexer": "ipython3",
   "version": "3.9.13"
  }
 },
 "nbformat": 4,
 "nbformat_minor": 2
}
