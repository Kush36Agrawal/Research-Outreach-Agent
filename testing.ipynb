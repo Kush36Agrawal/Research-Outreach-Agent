{
 "cells": [
  {
   "cell_type": "code",
   "execution_count": 9,
   "metadata": {},
   "outputs": [],
   "source": [
    "from get_prof_list import ProfessorList, is_valid_url\n",
    "from get_researches_of_prof import ProfResearches\n",
    "from get_abstract import ResearchAbstract"
   ]
  },
  {
   "cell_type": "code",
   "execution_count": 5,
   "metadata": {},
   "outputs": [
    {
     "name": "stdout",
     "output_type": "stream",
     "text": [
      "https://www.csrankings.org\n",
      "Dropdown option: South Africa\n"
     ]
    }
   ],
   "source": [
    "\n",
    "\n",
    "file_name = \"user_agent.txt\"\n",
    "regions=[\"South Africa\"]\n",
    "\n",
    "text=\"\"\n",
    "with open(\"user_agent.txt\", \"w\", encoding=\"utf-8\") as file:\n",
    "    text=ProfessorList(\"https://www.csrankings.org\",regions=regions).getProfList()\n",
    "    file.write(text)\n"
   ]
  },
  {
   "cell_type": "code",
   "execution_count": 20,
   "metadata": {},
   "outputs": [
    {
     "name": "stdout",
     "output_type": "stream",
     "text": [
      "https://dblp.org/pers/hd/v/Visser:Willem\n",
      "https://dblp.org/pers/hd/k/Kroon:Steve\n",
      "https://dblp.org/pers/hd/g/Geldenhuys:Jaco\n",
      "https://dblp.org/pers/hd/f/Fischer_0002:Bernd\n",
      "https://dblp.org/pers/hd/m/Meyer:Thomas_Andreas\n",
      "https://dblp.org/pers/hd/d/Densmore:Melissa\n"
     ]
    }
   ],
   "source": [
    "newText=\"\"\n",
    "lines=text.splitlines()\n",
    "for line in lines:\n",
    "    line=line.strip()\n",
    "    if line.startswith(\"[Link:\"):\n",
    "        start_index=line.find(\"http\")\n",
    "        end_index=line.find(\"]\",start_index)\n",
    "        url=line[start_index:end_index]\n",
    "        newText+=ProfResearches(url).getProfResearches()\n",
    "    else :\n",
    "        newText+=\"\\n\"\n",
    "        newText+=line"
   ]
  },
  {
   "cell_type": "code",
   "execution_count": 21,
   "metadata": {},
   "outputs": [],
   "source": [
    "with open(\"user_agent_2.txt\", \"w\", encoding=\"utf-8\") as file:\n",
    "    file.write(newText)"
   ]
  },
  {
   "cell_type": "code",
   "execution_count": 22,
   "metadata": {},
   "outputs": [
    {
     "data": {
      "text/plain": [
       "'\\n#############################################################################################################\\nSouth Africa\\n#############################################################################################################\\n\\n\\nName: Willem Visser\\nhttps://doi.org/10.1007/978-3-031-27481-7_33\\nhttps://doi.org/10.1145/3611643.3616265\\nhttps://doi.org/10.48550/arXiv.2307.16023'"
      ]
     },
     "execution_count": 22,
     "metadata": {},
     "output_type": "execute_result"
    }
   ],
   "source": [
    "x=newText.splitlines()\n",
    "y=x[:10]\n",
    "newText=\"\\n\".join(y)\n",
    "\n",
    "# with open(\"user_agent_2.txt\", \"w\", encoding=\"utf-8\") as file:\n",
    "#     file.write(newText)\n",
    "newText"
   ]
  },
  {
   "cell_type": "code",
   "execution_count": 23,
   "metadata": {},
   "outputs": [],
   "source": [
    "with open(\"user_agent_2.txt\", \"w\", encoding=\"utf-8\") as file:\n",
    "    file.write(newText)"
   ]
  },
  {
   "cell_type": "code",
   "execution_count": 28,
   "metadata": {},
   "outputs": [
    {
     "name": "stdout",
     "output_type": "stream",
     "text": [
      "https://doi.org/10.1007/978-3-031-27481-7_33\n",
      "https://doi.org/10.1145/3611643.3616265\n",
      "https://doi.org/10.48550/arXiv.2307.16023\n"
     ]
    }
   ],
   "source": [
    "newText2=\"\"\n",
    "lines=newText.splitlines()\n",
    "counter=1\n",
    "for line in lines:\n",
    "    line=line.strip()\n",
    "    if line.startswith(\"https://\"):\n",
    "        url=line\n",
    "        newText2+=\"\\n\"\n",
    "        newText2+=f\"Abstract for Research Paper {counter}\"\n",
    "        newText2+=\"\\n\"\n",
    "        newText2+=\"\\n\"\n",
    "        newText2+=ResearchAbstract(url).getResearchAbstract()\n",
    "        newText2+=\"\\n\"\n",
    "        counter+=1\n",
    "    else :\n",
    "        counter=1\n",
    "        # newText2+=\"\\n\"\n",
    "        newText2+=line\n",
    "        newText2+=\"\\n\"\n",
    "        # newText2+=\"\\n\"\n",
    "\n",
    "\n"
   ]
  },
  {
   "cell_type": "code",
   "execution_count": 29,
   "metadata": {},
   "outputs": [],
   "source": [
    "with open(\"user_agent_3.txt\", \"w\", encoding=\"utf-8\") as file:\n",
    "    file.write(newText2)"
   ]
  },
  {
   "cell_type": "code",
   "execution_count": null,
   "metadata": {},
   "outputs": [],
   "source": []
  }
 ],
 "metadata": {
  "kernelspec": {
   "display_name": "Python 3",
   "language": "python",
   "name": "python3"
  },
  "language_info": {
   "codemirror_mode": {
    "name": "ipython",
    "version": 3
   },
   "file_extension": ".py",
   "mimetype": "text/x-python",
   "name": "python",
   "nbconvert_exporter": "python",
   "pygments_lexer": "ipython3",
   "version": "3.12.2"
  }
 },
 "nbformat": 4,
 "nbformat_minor": 2
}
